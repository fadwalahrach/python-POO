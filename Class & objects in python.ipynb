{
 "cells": [
  {
   "cell_type": "markdown",
   "id": "a354ab2e",
   "metadata": {},
   "source": [
    "### Q1: Write a python class named Point3D defined by x, y, and z. Define a method that returns (x, y ,z). This tells Python to represent this object in the following format: (x, y, z). Then create a variable named my_point containing a new instance of Point3D with x=1, y=2, and z=3 and print it."
   ]
  },
  {
   "cell_type": "code",
   "execution_count": 3,
   "id": "fffcb160",
   "metadata": {},
   "outputs": [
    {
     "name": "stdout",
     "output_type": "stream",
     "text": [
      "x is 1 y is 2 z is 3\n"
     ]
    }
   ],
   "source": [
    "class Point3D:\n",
    "    def __init__(self,x,y,z):\n",
    "        self.x=x\n",
    "        self.y=y\n",
    "        self.z=z\n",
    "        \n",
    "    def toString(self):\n",
    "        return \"x is {} y is {} z is {}\".format(self.x,self.y,self.z)\n",
    "    \n",
    "my_point= Point3D(1,2,3)\n",
    "print(my_point.toString())"
   ]
  },
  {
   "cell_type": "markdown",
   "id": "7142f644",
   "metadata": {},
   "source": [
    "### Q2: Write a Python class named Rectangle constructed by a length and width. Define two methods area and perimeter which will compute the area and the perimeter of the rectangle. Then create a variable named my_rectangle containing a new instance of Rectangle with width=3 and length = 4 and compute both of area and perimeter ( the area is expected to be 3*4=12 and perimeter 2*(3+4)=14)"
   ]
  },
  {
   "cell_type": "code",
   "execution_count": 4,
   "id": "7a8774b2",
   "metadata": {},
   "outputs": [
    {
     "name": "stdout",
     "output_type": "stream",
     "text": [
      "The area is 12 and perimeter is 14\n"
     ]
    }
   ],
   "source": [
    "class Rectangle:\n",
    "    def __init__(self,length,width):\n",
    "        self.length=length\n",
    "        self.width=width\n",
    "    \n",
    "    def area(self):\n",
    "        return self.length * self.width\n",
    "    \n",
    "    def perimeter(self):\n",
    "        return 2*(self.length+self.width)\n",
    "    \n",
    "my_rectangle= Rectangle(4,3)\n",
    "print(\"The area is {} and perimeter is {}\".format(my_rectangle.area(), my_rectangle.perimeter()))\n",
    "        "
   ]
  },
  {
   "cell_type": "markdown",
   "id": "4db571c7",
   "metadata": {},
   "source": [
    "### Q3: Write a Python  class named Circle constructed by its center O and radius r. Define two methods area and perimeter which will compute the area and the perimeter of the circle, and isInside() method of the class which allows to test whether a point A(x, y) belongs to the circle C(O, r) or not."
   ]
  },
  {
   "cell_type": "code",
   "execution_count": 14,
   "id": "eea245ba",
   "metadata": {},
   "outputs": [
    {
     "name": "stdout",
     "output_type": "stream",
     "text": [
      "78.53981633974483\n",
      "31.41592653589793\n"
     ]
    },
    {
     "data": {
      "text/plain": [
       "False"
      ]
     },
     "execution_count": 14,
     "metadata": {},
     "output_type": "execute_result"
    }
   ],
   "source": [
    "import math\n",
    "class Circle:\n",
    "    def __init__(self,x,y,r):\n",
    "        self.x=x\n",
    "        self.y=y\n",
    "        self.r=r\n",
    "        \n",
    "    def area(self):\n",
    "        return math.pi * math.pow(self.r,2)\n",
    "    \n",
    "    def perimeter(self):\n",
    "        return 2 * math.pi * self.r\n",
    "    \n",
    "    def isInside(self,a,b):\n",
    "        if (math.pow((a - self.x),2) + math.pow((b - self.y),2) <= math.pow(self.r,2)):\n",
    "            return True\n",
    "        else:\n",
    "            return False\n",
    "    \n",
    "my_circle= Circle(0,0,5)\n",
    "print(my_circle.area())\n",
    "print(my_circle.perimeter())\n",
    "my_circle.isInside(5,6)\n",
    "        "
   ]
  },
  {
   "cell_type": "markdown",
   "id": "1f00f6a7",
   "metadata": {},
   "source": [
    "### Q4: Suppose we want to model a bank account with support for deposit and withdraw operations. Let’s create a python class named bank defined by its balance. Define two methods deposit and withdraw to compute the new amount of each operation. "
   ]
  },
  {
   "cell_type": "code",
   "execution_count": 16,
   "id": "6437a327",
   "metadata": {},
   "outputs": [
    {
     "name": "stdout",
     "output_type": "stream",
     "text": [
      "my new balance after deposit is 3000\n",
      "my new balance after withdraw is 2300\n"
     ]
    }
   ],
   "source": [
    "class bank:\n",
    "    def __init__(self,balance):\n",
    "        self.balance=balance\n",
    "        \n",
    "    def deposit(self, amount):\n",
    "        self.balance = self.balance + amount\n",
    "        return self.balance\n",
    "    \n",
    "    def withdraw(self, amount):\n",
    "        self.balance = self.balance - amount\n",
    "        return self.balance\n",
    "    \n",
    "my_bank=bank(2500)\n",
    "print(\"my new balance after deposit is {}\".format(my_bank.deposit(500)))\n",
    "print(\"my new balance after withdraw is {}\".format(my_bank.withdraw(700)))"
   ]
  }
 ],
 "metadata": {
  "kernelspec": {
   "display_name": "Python 3 (ipykernel)",
   "language": "python",
   "name": "python3"
  },
  "language_info": {
   "codemirror_mode": {
    "name": "ipython",
    "version": 3
   },
   "file_extension": ".py",
   "mimetype": "text/x-python",
   "name": "python",
   "nbconvert_exporter": "python",
   "pygments_lexer": "ipython3",
   "version": "3.9.7"
  }
 },
 "nbformat": 4,
 "nbformat_minor": 5
}
